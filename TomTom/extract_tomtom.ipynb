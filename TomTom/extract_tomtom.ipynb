{
 "cells": [
  {
   "cell_type": "code",
   "execution_count": 1,
   "metadata": {},
   "outputs": [],
   "source": [
    "import json\n",
    "import pandas as pd"
   ]
  },
  {
   "cell_type": "code",
   "execution_count": 3,
   "metadata": {},
   "outputs": [],
   "source": [
    "# Specify the path to your JSON file\n",
    "json_file_path = 'results_stuttgart_density.json'\n",
    "\n",
    "# Load JSON data from the file\n",
    "with open(json_file_path, 'r') as file:\n",
    "    data = json.load(file)"
   ]
  },
  {
   "cell_type": "code",
   "execution_count": 23,
   "metadata": {},
   "outputs": [],
   "source": [
    "# Extract \"segmentResults\" and convert it to a DataFrame\n",
    "density_df = pd.json_normalize(data['network']['segmentResults'])\n",
    "density_df = density_df.drop(columns=['newSegmentId'])\n",
    "\n",
    "# Extract \"probeCount\" from \"segmentProbeCounts\"\n",
    "density_df['probeCount'] = density_df['segmentProbeCounts'].apply(lambda x: x[0]['probeCount'] if isinstance(x, list) and len(x) > 0 else None)\n",
    "density_df = density_df.drop(columns=['segmentProbeCounts'])"
   ]
  },
  {
   "cell_type": "code",
   "execution_count": 26,
   "metadata": {},
   "outputs": [],
   "source": [
    "density_df.to_csv('probeCount.csv', index=False)"
   ]
  }
 ],
 "metadata": {
  "kernelspec": {
   "display_name": "base",
   "language": "python",
   "name": "python3"
  },
  "language_info": {
   "codemirror_mode": {
    "name": "ipython",
    "version": 3
   },
   "file_extension": ".py",
   "mimetype": "text/x-python",
   "name": "python",
   "nbconvert_exporter": "python",
   "pygments_lexer": "ipython3",
   "version": "3.11.5"
  }
 },
 "nbformat": 4,
 "nbformat_minor": 2
}
