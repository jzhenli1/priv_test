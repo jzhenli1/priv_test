{
 "cells": [
  {
   "cell_type": "code",
   "execution_count": 41,
   "metadata": {},
   "outputs": [],
   "source": [
    "import osmnx as ox\n",
    "import geopandas as gpd\n",
    "import pandas as pd\n",
    "import numpy as np\n",
    "\n",
    "import re\n",
    "from shapely import wkt"
   ]
  },
  {
   "cell_type": "code",
   "execution_count": 42,
   "metadata": {},
   "outputs": [],
   "source": [
    "# Function to extract geo data from OSM\n",
    "def geodata_to_df(country, city):\n",
    "\n",
    "    G = ox.graph_from_place(city, network_type='bike')  # download raw geospatial data from OSM\n",
    "\n",
    "    nodes, edges = ox.graph_to_gdfs(G, nodes=True, edges=True)\n",
    "    nodes[\"city\"], edges[\"city\"] = city, city\n",
    "    nodes[\"country\"], edges[\"country\"] = country, country\n",
    "\n",
    "    edges[\"lat_long\"] = edges[\"geometry\"].apply(lambda x: re.sub(r'[^0-9., ]', \"\", str([re.sub(r'[^0-9. ]', '', str(i)) for i in list(zip(x.xy[1], x.xy[0]))])))\n",
    "    edges[\"geometry\"] = edges[\"geometry\"].apply(lambda x: wkt.dumps(x))\n",
    "\n",
    "    edges[\"highway\"] = edges[\"highway\"].apply(lambda x: \", \".join(x) if x.__class__.__name__==\"list\" else x)\n",
    "    edges[\"name\"] = edges[\"name\"].apply(lambda x: \", \".join(x) if x.__class__.__name__==\"list\" else x)\n",
    "    edges[\"maxspeed\"] = edges[\"maxspeed\"].apply(lambda x: \", \".join(x) if x.__class__.__name__ == \"list\" else x)\n",
    "    edges[\"ref\"] = edges[\"ref\"].apply(lambda x: \", \".join(x) if x.__class__.__name__ == \"list\" else x)\n",
    "    edges[\"reversed\"] = edges[\"reversed\"].apply(lambda x: x[0] if x.__class__.__name__ == \"list\" else x)\n",
    "    edges[\"oneway\"] = edges[\"oneway\"].apply(lambda x: x[0] if x.__class__.__name__ == \"list\" else x)\n",
    "\n",
    "    edges.fillna(-99, inplace=True)\n",
    "    nodes.fillna(-99, inplace=True)\n",
    "    edges[\"name\"] = edges[\"name\"].astype(str).replace(\"-99\", None)\n",
    "\n",
    "    # nodes_and_edges = gpd.sjoin(edges, nodes, how=\"left\", predicate=\"intersects\")\n",
    "\n",
    "    return G, nodes, edges"
   ]
  },
  {
   "cell_type": "code",
   "execution_count": 43,
   "metadata": {},
   "outputs": [
    {
     "name": "stderr",
     "output_type": "stream",
     "text": [
      "C:\\Users\\Zhenzhen\\AppData\\Local\\Temp\\ipykernel_4168\\2060307123.py:11: UserWarning: Geometry column does not contain geometry.\n",
      "  edges[\"geometry\"] = edges[\"geometry\"].apply(lambda x: wkt.dumps(x))\n"
     ]
    }
   ],
   "source": [
    "G, nodes, edges = geodata_to_df('Germany', 'Stuttgart')"
   ]
  },
  {
   "cell_type": "code",
   "execution_count": 90,
   "metadata": {},
   "outputs": [],
   "source": [
    "# Get unlisted edges (since some osmid contain listed values)\n",
    "edges_unlist = edges.explode('osmid').reset_index()"
   ]
  },
  {
   "cell_type": "code",
   "execution_count": 108,
   "metadata": {},
   "outputs": [],
   "source": [
    "# Function to extract OSM features\n",
    "def osm_features(city):\n",
    "    # # Get type of roads\n",
    "    # road_types = edges.reset_index()[['osmid','highway']]\n",
    "\n",
    "    # # Get road width\n",
    "    # width = edges.reset_index()[['osmid', 'width']]\n",
    "\n",
    "    # Create a GeoDataFrame for intersections\n",
    "    # intersections = gpd.GeoDataFrame(geometry=nodes.geometry)\n",
    "\n",
    "    # Get nodes with the highway=traffic_signals tag (intersections with traffic lights)\n",
    "    traffic_nodes = ox.features_from_place(city, tags={\"highway\": \"traffic_signals\"}).reset_index()[['osmid','highway']].rename(columns={'highway': 'trafficSignals'})\n",
    "\n",
    "    # Get spots with bicycle parking\n",
    "    bicycle_parking = ox.features_from_place(city, tags={\"amenity\": \"bicycle_parking\"}).reset_index()[['osmid','amenity']].rename(columns={'amenity': 'bicycleParking'})\n",
    "\n",
    "    # Public transit options\n",
    "    # Get tram stops\n",
    "    transit_tram = ox.features_from_place(city, tags={\"railway\": 'tram_stop'}).reset_index()[['osmid','railway']].rename(columns={'railway': 'tramStop'})\n",
    "    # Get bus stops\n",
    "    transit_bus = ox.features_from_place(city, tags={\"highway\": 'bus_stop'}).reset_index()[['osmid','highway']].rename(columns={'highway': 'busStop'})\n",
    "\n",
    "    # On street parking\n",
    "    street_parking_right = ox.features_from_place(city, tags={\"parking:right\": True})['parking:right'].reset_index()[['osmid','parking:right']]\n",
    "    street_parking_left = ox.features_from_place(city, tags={\"parking:left\": True})['parking:left'].reset_index()[['osmid','parking:left']]\n",
    "    street_parking_both = ox.features_from_place(city, tags={\"parking:both\": True})['parking:both'].reset_index()[['osmid','parking:both']]\n",
    "    \n",
    "    # Merge all features\n",
    "    geodfs_to_merge = [bicycle_parking, transit_tram, transit_bus,\n",
    "                       street_parking_right, street_parking_left, street_parking_both]\n",
    "\n",
    "    # Initial merge with nodes_and_edges\n",
    "    merged_osm = traffic_nodes\n",
    "\n",
    "    # Perform outer merges in a loop\n",
    "    for geodf in geodfs_to_merge:\n",
    "        merged_osm = merged_osm.merge(geodf, on='osmid', how='outer')\n",
    "        \n",
    "    return merged_osm"
   ]
  },
  {
   "cell_type": "code",
   "execution_count": 109,
   "metadata": {},
   "outputs": [],
   "source": [
    "# Function to calculate the raw scores from extracted features\n",
    "def calculate_raw_score(row):\n",
    "    raw_score = 0\n",
    "    if row['trafficSignals'] == 'traffic_signals':\n",
    "        raw_score += 1\n",
    "    if row['bicycleParking'] == 'bicycle_parking':\n",
    "        raw_score += 1\n",
    "    if pd.isna(row['tramStop']):\n",
    "        raw_score += 1\n",
    "    if pd.isna(row['busStop']):\n",
    "        raw_score += 1\n",
    "    if pd.isna(row['parking:right']) or row['parking:right'] == 'no':\n",
    "        raw_score += 1\n",
    "    if pd.isna(row['parking:left']) or row['parking:left'] == 'no':\n",
    "        raw_score += 1\n",
    "    if pd.isna(row['parking:both']) or row['parking:both'] == 'no':\n",
    "        raw_score += 1\n",
    "\n",
    "    return raw_score"
   ]
  },
  {
   "cell_type": "code",
   "execution_count": 110,
   "metadata": {},
   "outputs": [],
   "source": [
    "# Function to map road type to score\n",
    "def road_type_to_score(road_type):\n",
    "    if re.search(r'\\[.*residential.*\\]', road_type):\n",
    "        return 0.7\n",
    "    elif re.search(r'\\[.*service.*\\]', road_type) or re.search(r'\\[.*track.*\\]', road_type):\n",
    "        return 0.1\n",
    "    elif re.search(r'\\[.*living_street.*\\]', road_type):\n",
    "        return 0.7\n",
    "    elif re.search(r'\\[.*pedestrian.*\\]', road_type):\n",
    "        return 0.8\n",
    "    elif re.search(r'\\[.*cycleway.*\\]', road_type):\n",
    "        return 1\n",
    "    elif re.search(r'\\[.*primary.*\\]', road_type) or re.search(r'\\[.*primary_link.*\\]', road_type):\n",
    "        return 0.2\n",
    "    elif re.search(r'\\[.*tertiary.*\\]', road_type) or re.search(r'\\[.*tertiary_link.*\\]', road_type):\n",
    "        return 0.5\n",
    "    elif re.search(r'\\[.*secondary.*\\]', road_type) or re.search(r'\\[.*secondary_link.*\\]', road_type):\n",
    "        return 0.4\n",
    "    elif road_type in ['service', 'track']:\n",
    "        return 0.1\n",
    "    elif road_type in ['primary', 'primary_link']:\n",
    "        return 0.2\n",
    "    elif road_type in ['secondary', 'secondary_link']:\n",
    "        return 0.4\n",
    "    elif road_type in ['tertiary', 'tertiary_link']:\n",
    "        return 0.5\n",
    "    elif road_type == 'unclassified':\n",
    "        return 0.6\n",
    "    elif road_type in ['residential', 'living_street']:\n",
    "        return 0.7\n",
    "    elif road_type in ['pedestrian', 'path']:\n",
    "        return 0.8\n",
    "    elif road_type == 'cycleway':\n",
    "        return 1\n",
    "    else:\n",
    "        return 0"
   ]
  },
  {
   "cell_type": "code",
   "execution_count": 111,
   "metadata": {},
   "outputs": [],
   "source": [
    "# Function to calculate the mean width\n",
    "def calculate_mean_width(width):\n",
    "    if isinstance(width, list):\n",
    "        # Extract numeric values from the list and calculate the mean\n",
    "        values = [float(re.search(r'-?\\d+\\.\\d+', str(val)).group()) for val in width if re.search(r'-?\\d+\\.\\d+', str(val))]\n",
    "        if values:\n",
    "            return np.mean(values)\n",
    "    else:\n",
    "        # Handle single numeric value or other cases\n",
    "        return float(re.search(r'-?\\d+\\.\\d+', str(width)).group()) if re.search(r'-?\\d+\\.\\d+', str(width)) else np.nan"
   ]
  },
  {
   "cell_type": "code",
   "execution_count": 112,
   "metadata": {},
   "outputs": [],
   "source": [
    "# Function to map width to score\n",
    "def width_score(width):\n",
    "    if width <= 10:\n",
    "        return width / 10\n",
    "    elif width > 10:\n",
    "        return 1\n",
    "    else:\n",
    "        return None"
   ]
  },
  {
   "cell_type": "code",
   "execution_count": 116,
   "metadata": {},
   "outputs": [],
   "source": [
    "merged_features = osm_features('Stuttgart')\n",
    "\n",
    "# Merge with edges_unlist\n",
    "merged_osm = edges_unlist.merge(merged_features, on='osmid', how='outer')"
   ]
  },
  {
   "cell_type": "code",
   "execution_count": null,
   "metadata": {},
   "outputs": [],
   "source": [
    "merged_osm['rawScore'] = merged_osm.apply(calculate_raw_score, axis=1)\n",
    "merged_osm['typeScore'] = merged_osm['highway'].apply(road_type_to_score)\n",
    "merged_osm['meanWidth'] = merged_osm['width'].apply(calculate_mean_width)\n",
    "merged_osm['widthScore'] = merged_osm['meanWidth'].apply(width_score)"
   ]
  },
  {
   "cell_type": "code",
   "execution_count": 122,
   "metadata": {},
   "outputs": [
    {
     "data": {
      "text/plain": [
       "dtype('O')"
      ]
     },
     "execution_count": 122,
     "metadata": {},
     "output_type": "execute_result"
    }
   ],
   "source": [
    "merged_osm['highway'].dtype"
   ]
  },
  {
   "cell_type": "code",
   "execution_count": null,
   "metadata": {},
   "outputs": [],
   "source": [
    "merged_osm = osm_features('Stuttgart')\n",
    "merged_osm['rawScore'] = 0\n",
    "road_types = edges[['osmid','highway']]"
   ]
  },
  {
   "cell_type": "code",
   "execution_count": null,
   "metadata": {},
   "outputs": [],
   "source": [
    "merged_osm['rawScore'] = merged_osm.apply(calculate_raw_score, axis=1)\n",
    "merged_osm['scaledScore'] = merged_osm['rawScore'] / 7\n",
    "merged_osm"
   ]
  },
  {
   "cell_type": "code",
   "execution_count": null,
   "metadata": {},
   "outputs": [],
   "source": [
    "road_types['type_score'] = road_types['highway'].apply(road_type_to_score)\n",
    "road_types"
   ]
  },
  {
   "cell_type": "code",
   "execution_count": 291,
   "metadata": {},
   "outputs": [
    {
     "data": {
      "text/plain": [
       "width_score\n",
       "NaN         78634\n",
       "0.250000     2509\n",
       "0.350000      904\n",
       "0.150000      729\n",
       "0.050000      649\n",
       "            ...  \n",
       "0.965000        1\n",
       "0.475000        1\n",
       "0.855000        1\n",
       "0.935000        1\n",
       "0.883333        1\n",
       "Name: count, Length: 136, dtype: int64"
      ]
     },
     "execution_count": 291,
     "metadata": {},
     "output_type": "execute_result"
    }
   ],
   "source": [
    "width = edges.reset_index()[['osmid', 'width']]\n",
    "width['mean_width'] = width['width'].apply(calculate_mean_width)\n",
    "width['width_score'] = width['mean_width'].apply(width_score)\n",
    "width['width_score'].value_counts(dropna=False)"
   ]
  },
  {
   "cell_type": "code",
   "execution_count": 157,
   "metadata": {},
   "outputs": [],
   "source": [
    "lighting = ox.features_from_place(\"Stuttgart\", tags={'highway': 'street_lamp'}).reset_index()[['osmid','highway']].rename(columns={'highway': 'lighting'})"
   ]
  },
  {
   "cell_type": "code",
   "execution_count": 158,
   "metadata": {},
   "outputs": [
    {
     "data": {
      "text/html": [
       "<div>\n",
       "<style scoped>\n",
       "    .dataframe tbody tr th:only-of-type {\n",
       "        vertical-align: middle;\n",
       "    }\n",
       "\n",
       "    .dataframe tbody tr th {\n",
       "        vertical-align: top;\n",
       "    }\n",
       "\n",
       "    .dataframe thead th {\n",
       "        text-align: right;\n",
       "    }\n",
       "</style>\n",
       "<table border=\"1\" class=\"dataframe\">\n",
       "  <thead>\n",
       "    <tr style=\"text-align: right;\">\n",
       "      <th></th>\n",
       "      <th>osmid</th>\n",
       "      <th>lighting</th>\n",
       "    </tr>\n",
       "  </thead>\n",
       "  <tbody>\n",
       "    <tr>\n",
       "      <th>0</th>\n",
       "      <td>483838</td>\n",
       "      <td>street_lamp</td>\n",
       "    </tr>\n",
       "    <tr>\n",
       "      <th>1</th>\n",
       "      <td>643784</td>\n",
       "      <td>street_lamp</td>\n",
       "    </tr>\n",
       "    <tr>\n",
       "      <th>2</th>\n",
       "      <td>4566432</td>\n",
       "      <td>street_lamp</td>\n",
       "    </tr>\n",
       "    <tr>\n",
       "      <th>3</th>\n",
       "      <td>60031863</td>\n",
       "      <td>street_lamp</td>\n",
       "    </tr>\n",
       "    <tr>\n",
       "      <th>4</th>\n",
       "      <td>60031865</td>\n",
       "      <td>street_lamp</td>\n",
       "    </tr>\n",
       "    <tr>\n",
       "      <th>...</th>\n",
       "      <td>...</td>\n",
       "      <td>...</td>\n",
       "    </tr>\n",
       "    <tr>\n",
       "      <th>4145</th>\n",
       "      <td>11243352985</td>\n",
       "      <td>street_lamp</td>\n",
       "    </tr>\n",
       "    <tr>\n",
       "      <th>4146</th>\n",
       "      <td>11250597772</td>\n",
       "      <td>street_lamp</td>\n",
       "    </tr>\n",
       "    <tr>\n",
       "      <th>4147</th>\n",
       "      <td>11250597773</td>\n",
       "      <td>street_lamp</td>\n",
       "    </tr>\n",
       "    <tr>\n",
       "      <th>4148</th>\n",
       "      <td>11250597774</td>\n",
       "      <td>street_lamp</td>\n",
       "    </tr>\n",
       "    <tr>\n",
       "      <th>4149</th>\n",
       "      <td>11398066376</td>\n",
       "      <td>street_lamp</td>\n",
       "    </tr>\n",
       "  </tbody>\n",
       "</table>\n",
       "<p>4150 rows × 2 columns</p>\n",
       "</div>"
      ],
      "text/plain": [
       "            osmid     lighting\n",
       "0          483838  street_lamp\n",
       "1          643784  street_lamp\n",
       "2         4566432  street_lamp\n",
       "3        60031863  street_lamp\n",
       "4        60031865  street_lamp\n",
       "...           ...          ...\n",
       "4145  11243352985  street_lamp\n",
       "4146  11250597772  street_lamp\n",
       "4147  11250597773  street_lamp\n",
       "4148  11250597774  street_lamp\n",
       "4149  11398066376  street_lamp\n",
       "\n",
       "[4150 rows x 2 columns]"
      ]
     },
     "execution_count": 158,
     "metadata": {},
     "output_type": "execute_result"
    }
   ],
   "source": [
    "lighting"
   ]
  },
  {
   "cell_type": "code",
   "execution_count": 134,
   "metadata": {},
   "outputs": [],
   "source": [
    "pd.set_option('display.max_columns', None)"
   ]
  }
 ],
 "metadata": {
  "kernelspec": {
   "display_name": "base",
   "language": "python",
   "name": "python3"
  },
  "language_info": {
   "codemirror_mode": {
    "name": "ipython",
    "version": 3
   },
   "file_extension": ".py",
   "mimetype": "text/x-python",
   "name": "python",
   "nbconvert_exporter": "python",
   "pygments_lexer": "ipython3",
   "version": "3.12.0"
  }
 },
 "nbformat": 4,
 "nbformat_minor": 2
}
