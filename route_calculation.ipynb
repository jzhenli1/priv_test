{
 "cells": [
  {
   "cell_type": "code",
   "execution_count": 1,
   "metadata": {},
   "outputs": [],
   "source": [
    "import folium\n",
    "import requests\n",
    "import streamlit as st \n",
    "from streamlit_folium import folium_static\n",
    "import osmnx as ox\n",
    "import networkx as nx\n",
    "import pandas as pd\n",
    "import geopandas as gpd\n",
    "from shapely import wkt\n",
    "import re"
   ]
  },
  {
   "cell_type": "code",
   "execution_count": 2,
   "metadata": {},
   "outputs": [],
   "source": [
    "# Getting start/dest coordinates\n",
    "def get_lat_lon(streetname):\n",
    "    BASE_URL = 'https://nominatim.openstreetmap.org/search?format=json'\n",
    "    response = requests.get(f'{BASE_URL}&street={streetname}&city=Stuttgart')\n",
    "    data = response.json()\n",
    "    \n",
    "    if data:\n",
    "        lat = data[0].get('lat')\n",
    "        lon = data[0].get('lon')\n",
    "        return float(lat), float(lon)\n",
    "    else:\n",
    "        # Handle the case where the geocoding service does not return valid data\n",
    "        return None"
   ]
  },
  {
   "cell_type": "code",
   "execution_count": 14,
   "metadata": {},
   "outputs": [],
   "source": [
    "# Initializing OSM Graph\n",
    "def init_osm_graph(city):\n",
    "    G = ox.graph_from_place(city, network_type='bike')\n",
    "    return G\n",
    "\n",
    "G = init_osm_graph('Stuttgart')"
   ]
  },
  {
   "cell_type": "code",
   "execution_count": 3,
   "metadata": {},
   "outputs": [],
   "source": [
    "# Get fastest route from OSM\n",
    "def get_osm_route(graph, start_location, dest_location, weight):\n",
    "     \n",
    "    start_data = get_lat_lon(start_location)\n",
    "    dest_data = get_lat_lon(dest_location)\n",
    "\n",
    "    orig_node = ox.distance.nearest_nodes(graph, start_data[1], start_data[0])\n",
    "    dest_node = ox.distance.nearest_nodes(graph, dest_data[1], dest_data[0])\n",
    "    shortest_route = nx.shortest_path(graph, orig_node, dest_node, weight=weight)\n",
    "    pathDistance = nx.shortest_path_length(graph, orig_node, dest_node, weight=weight)\n",
    "    \n",
    "    return shortest_route, pathDistance"
   ]
  },
  {
   "cell_type": "code",
   "execution_count": null,
   "metadata": {},
   "outputs": [],
   "source": [
    "shortest_route, pathDistance = get_osm_route(G, \"Königstraße 4\", \"Tübingerstraße 40\", \"length\")\n",
    "         \n",
    "m = ox.plot_route_folium(G, shortest_route, tiles='openstreetmap')\n",
    "m"
   ]
  },
  {
   "cell_type": "code",
   "execution_count": 15,
   "metadata": {},
   "outputs": [],
   "source": [
    "nodes, edges = ox.graph_to_gdfs(G, nodes=True, edges=True)"
   ]
  },
  {
   "cell_type": "code",
   "execution_count": 28,
   "metadata": {},
   "outputs": [
    {
     "name": "stderr",
     "output_type": "stream",
     "text": [
      "<>:1: SyntaxWarning: invalid escape sequence '\\m'\n",
      "<>:1: SyntaxWarning: invalid escape sequence '\\m'\n",
      "C:\\Users\\Zhenzhen\\AppData\\Local\\Temp\\ipykernel_4704\\2845835240.py:1: SyntaxWarning: invalid escape sequence '\\m'\n",
      "  merged_osm = pd.read_csv('OSM\\merged_osm.csv')\n",
      "C:\\Users\\Zhenzhen\\AppData\\Local\\Temp\\ipykernel_4704\\2845835240.py:1: DtypeWarning: Columns (7,8,19,20,24,25,26,27,28,29,30,31) have mixed types. Specify dtype option on import or set low_memory=False.\n",
      "  merged_osm = pd.read_csv('OSM\\merged_osm.csv')\n"
     ]
    }
   ],
   "source": [
    "merged_osm = pd.read_csv('OSM\\merged_osm.csv')"
   ]
  },
  {
   "cell_type": "code",
   "execution_count": 29,
   "metadata": {},
   "outputs": [],
   "source": [
    "def db_to_graph(db_nodes, db_edges):\n",
    "    # nodes = gpd.GeoDataFrame(db_nodes).set_index([\"osmid\"])\n",
    "    nodes = db_nodes\n",
    "    edges = gpd.GeoDataFrame(db_edges).set_index([\"u\", \"v\", \"key\"])\n",
    "    edges[\"geometry\"] = edges[\"geometry\"].astype(str).apply(lambda x: wkt.loads(x))\n",
    "    edges = gpd.GeoDataFrame(edges).set_crs(\"epsg:4326\")\n",
    "    G = ox.graph_from_gdfs(nodes, edges)\n",
    "    return nodes, edges, G\n",
    "\n",
    "bike_nodes, bike_edges, G_bike = db_to_graph(nodes, merged_osm)"
   ]
  },
  {
   "cell_type": "code",
   "execution_count": 30,
   "metadata": {},
   "outputs": [],
   "source": [
    "# Get fastest route from OSM\n",
    "def get_bike_route(graph, start_location, dest_location, weight):\n",
    "     \n",
    "    start_data = get_lat_lon(start_location)\n",
    "    dest_data = get_lat_lon(dest_location)\n",
    "\n",
    "    # orig_node = ox.distance.nearest_nodes(graph, start_data[1], start_data[0])\n",
    "    # dest_node = ox.distance.nearest_nodes(graph, dest_data[1], dest_data[0])\n",
    "    orig_edge = ox.nearest_edges(G, start_data[1], start_data[0])\n",
    "    dest_edge = ox.nearest_edges(G, dest_data[1], dest_data[0])\n",
    "    best_route = ox.shortest_path(graph, orig_edge[0], dest_edge[1], weight=weight)\n",
    "    # best_pathDistance = nx.shortest_path_length(graph, orig_edge, dest_edge, weight=weight)\n",
    "    \n",
    "    return best_route #, best_pathDistance"
   ]
  },
  {
   "cell_type": "code",
   "execution_count": null,
   "metadata": {},
   "outputs": [],
   "source": [
    "bikeable_route = get_bike_route(G_bike, \"Unteraicherstrasse 22\", \"Schmiedgasse 5\", \"finalSore_reversed\")\n",
    "         \n",
    "m = ox.plot_route_folium(G_bike, bikeable_route, tiles='openstreetmap')\n",
    "m"
   ]
  },
  {
   "cell_type": "code",
   "execution_count": null,
   "metadata": {},
   "outputs": [],
   "source": [
    "shortest_route, pathDistance = get_osm_route(G, \"Unteraicherstrasse 22\", \"Schmiedgasse 5\", \"length\")\n",
    "         \n",
    "m = ox.plot_route_folium(G, shortest_route, tiles='openstreetmap')\n",
    "m"
   ]
  }
 ],
 "metadata": {
  "kernelspec": {
   "display_name": "Python 3",
   "language": "python",
   "name": "python3"
  },
  "language_info": {
   "codemirror_mode": {
    "name": "ipython",
    "version": 3
   },
   "file_extension": ".py",
   "mimetype": "text/x-python",
   "name": "python",
   "nbconvert_exporter": "python",
   "pygments_lexer": "ipython3",
   "version": "3.12.0"
  }
 },
 "nbformat": 4,
 "nbformat_minor": 2
}
